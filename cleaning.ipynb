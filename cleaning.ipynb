{
 "cells": [
  {
   "cell_type": "code",
   "execution_count": 3,
   "metadata": {},
   "outputs": [],
   "source": [
    "import os\n",
    "import pandas as pd\n",
    "import matplotlib.pyplot as plt\n",
    "import seaborn as sns\n",
    "from sklearn.impute import SimpleImputer"
   ]
  },
  {
   "cell_type": "code",
   "execution_count": 4,
   "metadata": {},
   "outputs": [
    {
     "name": "stdout",
     "output_type": "stream",
     "text": [
      "Index(['Transaction_ID', 'Date', 'Customer_Name', 'Product', 'Total_Items',\n",
      "       'Total_Cost', 'Payment_Method', 'City', 'Store_Type',\n",
      "       'Discount_Applied', 'Customer_Category', 'Season', 'Promotion'],\n",
      "      dtype='object')\n"
     ]
    }
   ],
   "source": [
    "ret = pd.read_csv(\"Retail_Transactions_Dataset.csv\")\n",
    "print(ret.columns)"
   ]
  },
  {
   "cell_type": "code",
   "execution_count": 5,
   "metadata": {},
   "outputs": [
    {
     "name": "stdout",
     "output_type": "stream",
     "text": [
      "Transaction_ID          0\n",
      "Date                    0\n",
      "Customer_Name           0\n",
      "Product                 0\n",
      "Total_Items             0\n",
      "Total_Cost              0\n",
      "Payment_Method          0\n",
      "City                    0\n",
      "Store_Type              0\n",
      "Discount_Applied        0\n",
      "Customer_Category       0\n",
      "Season                  0\n",
      "Promotion            9991\n",
      "dtype: int64\n"
     ]
    }
   ],
   "source": [
    "# missing\n",
    "print(ret.isnull().sum())"
   ]
  },
  {
   "cell_type": "code",
   "execution_count": 6,
   "metadata": {},
   "outputs": [
    {
     "name": "stdout",
     "output_type": "stream",
     "text": [
      "Promotion\n",
      "BOGO (Buy One Get One)        10068\n",
      "No Promotion                   9991\n",
      "Discount on Selected Items     9941\n",
      "Name: count, dtype: int64\n",
      "Transaction_ID       0\n",
      "Date                 0\n",
      "Customer_Name        0\n",
      "Product              0\n",
      "Total_Items          0\n",
      "Total_Cost           0\n",
      "Payment_Method       0\n",
      "City                 0\n",
      "Store_Type           0\n",
      "Discount_Applied     0\n",
      "Customer_Category    0\n",
      "Season               0\n",
      "Promotion            0\n",
      "dtype: int64\n",
      "   Transaction_ID                 Date     Customer_Name  \\\n",
      "0      1000000000  2020-12-21 19:42:52   Cheyenne Newman   \n",
      "1      1000000001  2020-07-06 07:45:16  Emily Fitzgerald   \n",
      "2      1000000002  2021-10-02 06:28:44      Michael Webb   \n",
      "3      1000000003  2022-01-10 05:39:02      Kimberly Lin   \n",
      "4      1000000004  2021-10-13 07:28:47   Cathy Hernandez   \n",
      "\n",
      "                                             Product  Total_Items  Total_Cost  \\\n",
      "0                                       ['Hair Gel']            6       12.77   \n",
      "1         ['Tuna', 'Bread', 'Tissues', 'Trash Bags']            5       13.88   \n",
      "2                         ['Jam', 'Soap', 'Ketchup']            7       47.02   \n",
      "3                                      ['BBQ Sauce']            9       83.86   \n",
      "4  ['Hand Sanitizer', 'Bread', 'Extension Cords',...            4       30.55   \n",
      "\n",
      "   Payment_Method      City         Store_Type  Discount_Applied  \\\n",
      "0      Debit Card  New York  Convenience Store              True   \n",
      "1      Debit Card   Houston        Supermarket             False   \n",
      "2      Debit Card     Miami  Convenience Store             False   \n",
      "3  Mobile Payment   Seattle     Warehouse Club              True   \n",
      "4      Debit Card   Houston     Warehouse Club             False   \n",
      "\n",
      "  Customer_Category  Season                   Promotion  \n",
      "0           Student  Winter                No Promotion  \n",
      "1      Professional    Fall      BOGO (Buy One Get One)  \n",
      "2       Young Adult  Winter                No Promotion  \n",
      "3    Senior Citizen  Summer  Discount on Selected Items  \n",
      "4    Senior Citizen  Spring                No Promotion  \n"
     ]
    },
    {
     "name": "stderr",
     "output_type": "stream",
     "text": [
      "C:\\Users\\In The Name of Allah\\AppData\\Local\\Temp\\ipykernel_1284\\1991672908.py:2: FutureWarning: A value is trying to be set on a copy of a DataFrame or Series through chained assignment using an inplace method.\n",
      "The behavior will change in pandas 3.0. This inplace method will never work because the intermediate object on which we are setting values always behaves as a copy.\n",
      "\n",
      "For example, when doing 'df[col].method(value, inplace=True)', try using 'df.method({col: value}, inplace=True)' or df[col] = df[col].method(value) instead, to perform the operation inplace on the original object.\n",
      "\n",
      "\n",
      "  ret['Promotion'].replace('None', 'No Promotion', inplace=True)\n",
      "C:\\Users\\In The Name of Allah\\AppData\\Local\\Temp\\ipykernel_1284\\1991672908.py:3: FutureWarning: A value is trying to be set on a copy of a DataFrame or Series through chained assignment using an inplace method.\n",
      "The behavior will change in pandas 3.0. This inplace method will never work because the intermediate object on which we are setting values always behaves as a copy.\n",
      "\n",
      "For example, when doing 'df[col].method(value, inplace=True)', try using 'df.method({col: value}, inplace=True)' or df[col] = df[col].method(value) instead, to perform the operation inplace on the original object.\n",
      "\n",
      "\n",
      "  ret['Promotion'].fillna('No Promotion', inplace=True)\n"
     ]
    }
   ],
   "source": [
    "ret['Promotion'].unique()\n",
    "ret['Promotion'].replace('None', 'No Promotion', inplace=True)\n",
    "ret['Promotion'].fillna('No Promotion', inplace=True)\n",
    "print(ret['Promotion'].value_counts())\n",
    "print(ret.isnull().sum())\n",
    "##check\n",
    "print(ret.head())"
   ]
  },
  {
   "cell_type": "code",
   "execution_count": 7,
   "metadata": {},
   "outputs": [
    {
     "data": {
      "text/html": [
       "<div>\n",
       "<style scoped>\n",
       "    .dataframe tbody tr th:only-of-type {\n",
       "        vertical-align: middle;\n",
       "    }\n",
       "\n",
       "    .dataframe tbody tr th {\n",
       "        vertical-align: top;\n",
       "    }\n",
       "\n",
       "    .dataframe thead th {\n",
       "        text-align: right;\n",
       "    }\n",
       "</style>\n",
       "<table border=\"1\" class=\"dataframe\">\n",
       "  <thead>\n",
       "    <tr style=\"text-align: right;\">\n",
       "      <th></th>\n",
       "      <th>Transaction_ID</th>\n",
       "      <th>Total_Items</th>\n",
       "      <th>Total_Cost</th>\n",
       "    </tr>\n",
       "  </thead>\n",
       "  <tbody>\n",
       "    <tr>\n",
       "      <th>count</th>\n",
       "      <td>3.000000e+04</td>\n",
       "      <td>30000.00</td>\n",
       "      <td>30000.00</td>\n",
       "    </tr>\n",
       "    <tr>\n",
       "      <th>mean</th>\n",
       "      <td>1.000015e+09</td>\n",
       "      <td>5.50</td>\n",
       "      <td>52.50</td>\n",
       "    </tr>\n",
       "    <tr>\n",
       "      <th>std</th>\n",
       "      <td>8.660400e+03</td>\n",
       "      <td>2.87</td>\n",
       "      <td>27.36</td>\n",
       "    </tr>\n",
       "    <tr>\n",
       "      <th>min</th>\n",
       "      <td>1.000000e+09</td>\n",
       "      <td>1.00</td>\n",
       "      <td>5.00</td>\n",
       "    </tr>\n",
       "    <tr>\n",
       "      <th>25%</th>\n",
       "      <td>1.000007e+09</td>\n",
       "      <td>3.00</td>\n",
       "      <td>28.69</td>\n",
       "    </tr>\n",
       "    <tr>\n",
       "      <th>50%</th>\n",
       "      <td>1.000015e+09</td>\n",
       "      <td>5.00</td>\n",
       "      <td>52.48</td>\n",
       "    </tr>\n",
       "    <tr>\n",
       "      <th>75%</th>\n",
       "      <td>1.000022e+09</td>\n",
       "      <td>8.00</td>\n",
       "      <td>76.10</td>\n",
       "    </tr>\n",
       "    <tr>\n",
       "      <th>max</th>\n",
       "      <td>1.000030e+09</td>\n",
       "      <td>10.00</td>\n",
       "      <td>99.99</td>\n",
       "    </tr>\n",
       "  </tbody>\n",
       "</table>\n",
       "</div>"
      ],
      "text/plain": [
       "       Transaction_ID  Total_Items  Total_Cost\n",
       "count    3.000000e+04     30000.00    30000.00\n",
       "mean     1.000015e+09         5.50       52.50\n",
       "std      8.660400e+03         2.87       27.36\n",
       "min      1.000000e+09         1.00        5.00\n",
       "25%      1.000007e+09         3.00       28.69\n",
       "50%      1.000015e+09         5.00       52.48\n",
       "75%      1.000022e+09         8.00       76.10\n",
       "max      1.000030e+09        10.00       99.99"
      ]
     },
     "execution_count": 7,
     "metadata": {},
     "output_type": "execute_result"
    }
   ],
   "source": [
    "ret[['Transaction_ID','Total_Items' , 'Total_Cost']].describe().round(2)"
   ]
  },
  {
   "cell_type": "code",
   "execution_count": 8,
   "metadata": {},
   "outputs": [
    {
     "data": {
      "image/png": "[encoded data removed]",
      "text/plain": [
       "<Figure size 450x1350 with 3 Axes>"
      ]
     },
     "metadata": {},
     "output_type": "display_data"
    }
   ],
   "source": [
    "fig, axs = plt.subplots(3, 1, dpi=90, figsize=(5, 15))  # Adjusted to 3 rows for 3 columns\n",
    "\n",
    "# Loop through selected columns and corresponding axes\n",
    "for i, col in enumerate(['Transaction_ID', 'Total_Items', 'Total_Cost']):\n",
    "    axs[i].boxplot(ret[col], vert=False)  # Boxplot for each column\n",
    "    axs[i].set_title(f\"Boxplot for {col}\")        # Add title\n",
    "    axs[i].set_ylabel(col)                        # Set Y-axis label\n",
    "\n",
    "plt.tight_layout()  # Adjust subplot spacing for better layout\n",
    "plt.show()"
   ]
  },
  {
   "cell_type": "code",
   "execution_count": 9,
   "metadata": {},
   "outputs": [],
   "source": [
    "##normalization\n",
    "from sklearn.preprocessing import MinMaxScaler\n",
    "scaler = MinMaxScaler()\n",
    "numeric_cols = ret.select_dtypes(include=['float64', 'int64']).columns\n",
    "ret[numeric_cols] = scaler.fit_transform(ret[numeric_cols])"
   ]
  },
  {
   "cell_type": "code",
   "execution_count": 10,
   "metadata": {},
   "outputs": [
    {
     "name": "stdout",
     "output_type": "stream",
     "text": [
      "Date mixed.\n",
      "Customer_Name mixed.\n",
      "Product mixed.\n",
      "Payment_Method mixed.\n",
      "City mixed.\n",
      "Store_Type mixed.\n",
      "Customer_Category mixed.\n",
      "Season mixed.\n",
      "Promotion mixed.\n"
     ]
    }
   ],
   "source": [
    "# ##check data type\n",
    "# ret['Date'] = pd.to_datetime(ret['Date'], errors='coerce', dayfirst=True)\n",
    "# ret['Transaction_ID'] = ret['Transaction_ID'].fillna(0).astype(int)\n",
    "##check object\n",
    "for col in ret.select_dtypes(include=['object']).columns:\n",
    "    if ret[col].apply(lambda x: str(x).isnumeric()).all():\n",
    "        print(f\"{col} num only.\")\n",
    "    else:\n",
    "        print(f\"{col} mixed.\")\n"
   ]
  },
  {
   "cell_type": "code",
   "execution_count": 11,
   "metadata": {},
   "outputs": [],
   "source": [
    "def clean_data_types(df):\n",
    "    df['Date'] = pd.to_datetime(df['Date'], errors='coerce', dayfirst=True)\n",
    "\n",
    "    string_columns = ['Customer_Name', 'Product', 'Payment_Method', 'City', 'Store_Type', 'Discount_Applied', 'Customer_Category', 'Season', 'Promotion']\n",
    "    df[string_columns] = df[string_columns].astype(str).replace('nan', 'Unknown')\n",
    "\n",
    "    numeric_columns = ['Transaction_ID', 'Total_Items', 'Total_Cost']\n",
    "    df[numeric_columns] = df[numeric_columns].apply(pd.to_numeric, errors='coerce').fillna(df[numeric_columns].median())\n",
    "\n",
    "    return df\n"
   ]
  },
  {
   "cell_type": "code",
   "execution_count": 12,
   "metadata": {},
   "outputs": [
    {
     "name": "stdout",
     "output_type": "stream",
     "text": [
      "Column 'Customer_Name' has types: [<class 'str'>]\n",
      "Column 'Product' has types: [<class 'str'>]\n",
      "Column 'Payment_Method' has types: [<class 'str'>]\n",
      "Column 'City' has types: [<class 'str'>]\n",
      "Column 'Store_Type' has types: [<class 'str'>]\n",
      "Column 'Discount_Applied' has types: [<class 'bool'>]\n",
      "Column 'Customer_Category' has types: [<class 'str'>]\n",
      "Column 'Season' has types: [<class 'str'>]\n",
      "Column 'Promotion' has types: [<class 'str'>]\n"
     ]
    }
   ],
   "source": [
    "## check\n",
    "columns = [\n",
    "   'Customer_Name', 'Product', 'Payment_Method',\n",
    "    'City', 'Store_Type', 'Discount_Applied', 'Customer_Category',\n",
    "    'Season', 'Promotion'\n",
    "]\n",
    "mixed_types = {col: ret[col].apply(type).unique() for col in columns}\n",
    "for col, types in mixed_types.items():\n",
    "    print(f\"Column '{col}' has types: {types}\")\n"
   ]
  },
  {
   "cell_type": "code",
   "execution_count": 13,
   "metadata": {},
   "outputs": [
    {
     "data": {
      "image/png": "[encoded data removed]",
      "text/plain": [
       "<Figure size 1000x600 with 1 Axes>"
      ]
     },
     "metadata": {},
     "output_type": "display_data"
    }
   ],
   "source": [
    "##Box Plot (لو الدكتور عايزه نطبقه)\n",
    "columns = ['Total_Items', 'Total_Cost']\n",
    "plt.figure(figsize=(10, 6))\n",
    "sns.boxplot(data=ret[columns])\n",
    "plt.title('Box Plot for Total_Items and Total_Cost')\n",
    "plt.tight_layout()\n",
    "plt.show()"
   ]
  },
  {
   "cell_type": "code",
   "execution_count": 16,
   "metadata": {},
   "outputs": [
    {
     "data": {
      "text/plain": [
       "<Axes: xlabel='Discount_Applied'>"
      ]
     },
     "execution_count": 16,
     "metadata": {},
     "output_type": "execute_result"
    },
    {
     "data": {
      "image/png": "[encoded data removed]",
      "text/plain": [
       "<Figure size 640x480 with 1 Axes>"
      ]
     },
     "metadata": {},
     "output_type": "display_data"
    }
   ],
   "source": [
    "ret['Promotion'].value_counts().plot(kind='bar')\n",
    "#ret['Discount_Applied'].value_counts().plot(kind='bar')\n"
   ]
  },
  {
   "cell_type": "code",
   "execution_count": 15,
   "metadata": {},
   "outputs": [],
   "source": [
    "ret.to_csv(\"Retail_Data_Cleaned.csv\", index=False)"
   ]
  }
 ],
 "metadata": {
  "kernelspec": {
   "display_name": "Python 3",
   "language": "python",
   "name": "python3"
  },
  "language_info": {
   "codemirror_mode": {
    "name": "ipython",
    "version": 3
   },
   "file_extension": ".py",
   "mimetype": "text/x-python",
   "name": "python",
   "nbconvert_exporter": "python",
   "pygments_lexer": "ipython3",
   "version": "3.12.1"
  }
 },
 "nbformat": 4,
 "nbformat_minor": 2
}
