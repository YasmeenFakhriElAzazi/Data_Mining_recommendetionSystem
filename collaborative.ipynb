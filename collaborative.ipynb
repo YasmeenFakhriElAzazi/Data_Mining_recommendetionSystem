{
 "cells": [
  {
   "cell_type": "code",
   "execution_count": 7,
   "metadata": {},
   "outputs": [],
   "source": [
    "#import libiraries\n",
    "import pandas as pd\n",
    "from sklearn.metrics.pairwise import cosine_similarity\n",
    "from sklearn.preprocessing import LabelEncoder\n",
    "from scipy.sparse import csr_matrix\n",
    "from sklearn.model_selection import train_test_split\n",
    "\n",
    "#read file\n",
    "file_path = 'Retail_Data_Cleaned.csv'\n",
    "df = pd.read_csv(file_path)\n",
    "\n"
   ]
  },
  {
   "cell_type": "code",
   "execution_count": 2,
   "metadata": {},
   "outputs": [],
   "source": [
    "##collaborative\n",
    "#encode identifiers into numeric values\n",
    "customer_encoder = LabelEncoder()\n",
    "product_encoder = LabelEncoder()\n",
    "\n",
    "#store numeric values in new column\n",
    "#df=dataframe\n",
    "df['Customer_ID'] = customer_encoder.fit_transform(df['Customer_Name'])\n",
    "df['Product_ID'] = product_encoder.fit_transform(df['Product'])\n",
    "\n",
    "# user-item interaction matrix\n",
    "user_item_matrix = df.pivot_table(\n",
    "    index='Customer_ID',\n",
    "    columns='Product_ID',\n",
    "    values='Total_Items', # quantity of items\n",
    "    aggfunc='sum',        # Summing items in case of multiple entries for the same user\n",
    "    fill_value=0          # missing\n",
    "    )\n",
    "# Convert to sparse matrix\n",
    "user_item_matrix_sparse = csr_matrix(user_item_matrix.values)\n",
    "\n",
    "# Calculate the cosine similarity between users\n",
    "user_similarity_sparse = cosine_similarity(user_item_matrix_sparse)\n",
    "\n",
    "#Convert the similarity matrix to a DataFrame\n",
    "user_similarity_df = pd.DataFrame(user_similarity_sparse, index=user_item_matrix.index, columns=user_item_matrix.index)\n",
    "\n",
    "def recommend_products(customer_id, top_n=10):\n",
    "\n",
    "    similar_customers = user_similarity_df[customer_id].sort_values(ascending=False).iloc[1:top_n+1]  #Find the most similar customers\n",
    "    recommended_products = {}   # empty dictionary to store recommended products\n",
    "\n",
    "    for similar_customer in similar_customers.index:\n",
    "        similar_customer_products = user_item_matrix.loc[similar_customer] #Get the products purchased\n",
    "        for product_id, count in similar_customer_products[similar_customer_products > 0].items():\n",
    "            if product_id not in recommended_products:\n",
    "                recommended_products[product_id] = count\n",
    "            else:\n",
    "                recommended_products[product_id] += count\n",
    "\n",
    "#remove selected product\n",
    "    #get the products already purchased by the target customer\n",
    "    customer_products = user_item_matrix.loc[customer_id]\n",
    "    purchased_products = set(customer_products[customer_products > 0].index)\n",
    "\n",
    "#filter out products already purchased by the customer\n",
    "    recommended_products = {\n",
    "        product_id: count for product_id, count in recommended_products.items()\n",
    "        if product_id not in purchased_products }\n",
    "\n",
    "# Sort recommendations by frequency of purchase (descending)\n",
    "    recommended_products_sorted = sorted(recommended_products.items(), key=lambda x: x[1], reverse=True)\n",
    "\n",
    "# Convert product IDs back to names\n",
    "    recommended_product_names = product_encoder.inverse_transform([product_id for product_id, _ in recommended_products_sorted[:top_n]])\n",
    "\n",
    "    return recommended_product_names"
   ]
  },
  {
   "cell_type": "code",
   "execution_count": 3,
   "metadata": {},
   "outputs": [
    {
     "name": "stdout",
     "output_type": "stream",
     "text": [
      "          Customer_Name  Customer_ID\n",
      "0       Cheyenne Newman         4521\n",
      "1      Emily Fitzgerald         7984\n",
      "2          Michael Webb        17806\n",
      "3          Kimberly Lin        14454\n",
      "4       Cathy Hernandez         4190\n",
      "5        Elizabeth Cook         7806\n",
      "6          Kara Bradley        13183\n",
      "7       Carla Hernandez         3788\n",
      "8      Christopher Wang         5050\n",
      "9         Alisha Hudson          611\n",
      "10     Samantha Mcclure        21526\n",
      "11         Shari Thomas        22333\n",
      "12       David Randolph         6444\n",
      "13          Maria Munoz        16262\n",
      "14  Christopher Barnett         4797\n",
      "15       Jonathan Roach        12236\n",
      "16       Alexander Hall          385\n",
      "17          Bryan Smith         3605\n",
      "18        Kayla Sanchez        13739\n",
      "19          Adam Foster          145\n"
     ]
    }
   ],
   "source": [
    "#print customer id\n",
    "print(df[['Customer_Name', 'Customer_ID']].head(20))"
   ]
  },
  {
   "cell_type": "code",
   "execution_count": 4,
   "metadata": {},
   "outputs": [
    {
     "name": "stdout",
     "output_type": "stream",
     "text": [
      "Check Passed: Recommendations for customer 145 are [\"['Shower Gel', 'Ketchup']\" \"['Water', 'Lawn Mower']\"\n",
      " \"['Tea', 'Pickles']\" \"['BBQ Sauce', 'Soap']\"\n",
      " \"['Carrots', 'Water', 'Baby Wipes']\"\n",
      " \"['Cereal', 'Insect Repellent', 'Spinach', 'Milk', 'Tuna']\"\n",
      " \"['Dish Soap', 'BBQ Sauce']\" \"['Bread', 'Paper Towels']\"\n",
      " \"['Cleaning Spray', 'Air Freshener', 'Pasta', 'Salmon', 'Rice']\"\n",
      " \"['Broom', 'Olive Oil', 'Razors', 'Bath Towels']\"]\n"
     ]
    }
   ],
   "source": [
    "def check_recommendation(customer_id):\n",
    "    recommendations = recommend_products(customer_id)\n",
    "    if len(recommendations) > 0:\n",
    "        print(f\"Check Passed: Recommendations for customer {customer_id} are {recommendations}\")\n",
    "    else:\n",
    "        print(f\"Check Failed: No recommendations found for customer {customer_id}\")\n",
    "\n",
    "# Example usage\n",
    "check_recommendation( 145)"
   ]
  }
 ],
 "metadata": {
  "kernelspec": {
   "display_name": "Python 3",
   "language": "python",
   "name": "python3"
  },
  "language_info": {
   "codemirror_mode": {
    "name": "ipython",
    "version": 3
   },
   "file_extension": ".py",
   "mimetype": "text/x-python",
   "name": "python",
   "nbconvert_exporter": "python",
   "pygments_lexer": "ipython3",
   "version": "3.12.1"
  }
 },
 "nbformat": 4,
 "nbformat_minor": 2
}
